{
 "cells": [
  {
   "cell_type": "code",
   "execution_count": 7,
   "metadata": {},
   "outputs": [
    {
     "name": "stdout",
     "output_type": "stream",
     "text": [
      "0.09024488543315112\n",
      "0.2955154717930739\n",
      "0.042794141902621985\n",
      "0.2556525028759816\n",
      "0.684565429701589\n",
      "0.06343902840679272\n",
      "0.6336169860340729\n",
      "0.7231992948450344\n",
      "0.40333846301185716\n",
      "0.8423471468311313\n"
     ]
    }
   ],
   "source": [
    "from random import random \n",
    "for _ in range(10):\n",
    "    print(random())"
   ]
  },
  {
   "cell_type": "code",
   "execution_count": 26,
   "metadata": {},
   "outputs": [
    {
     "name": "stdout",
     "output_type": "stream",
     "text": [
      "0.5073\n"
     ]
    }
   ],
   "source": [
    "def unbiased_coin():\n",
    "    # give 0 - 50%\n",
    "    # give 1 - 50%\n",
    "    r = random()\n",
    "    if r < 0.5:\n",
    "        return 0\n",
    "    else:\n",
    "        return 1\n",
    "\n",
    "l = [unbiased_coin() for _ in range(10000)]\n",
    "print(sum(l)/len(l))"
   ]
  },
  {
   "cell_type": "code",
   "execution_count": 17,
   "metadata": {},
   "outputs": [
    {
     "data": {
      "text/plain": [
       "0.3711691144872574"
      ]
     },
     "execution_count": 17,
     "metadata": {},
     "output_type": "execute_result"
    }
   ],
   "source": [
    "random()%2"
   ]
  },
  {
   "cell_type": "code",
   "execution_count": 30,
   "metadata": {},
   "outputs": [
    {
     "name": "stdout",
     "output_type": "stream",
     "text": [
      "0.09911\n"
     ]
    }
   ],
   "source": [
    "def biased_coin_toss(p):\n",
    "    # pick 0 with p and pick 1 with 1-p\n",
    "    #...\n",
    "    r = random()\n",
    "    if r < p:\n",
    "        return 0\n",
    "    else:\n",
    "        return 1\n",
    "l = [biased_coin_toss(0.9) for _ in range(100000)]\n",
    "print(sum(l)/len(l))"
   ]
  },
  {
   "cell_type": "code",
   "execution_count": 28,
   "metadata": {},
   "outputs": [
    {
     "name": "stdout",
     "output_type": "stream",
     "text": [
      "0.101\n"
     ]
    }
   ],
   "source": [
    "# biased_coin_toss(0.9) # It should produce 0 in 90% cases\n",
    "\n",
    "# Test\n",
    "result = []\n",
    "for _ in range(1000):\n",
    "    r = biased_coin_toss(0.9)\n",
    "    result.append(r)\n",
    "\n",
    "print(sum(result)/len(result)) # ~ 10%\n",
    "# Result should have 90% values to be 0"
   ]
  },
  {
   "cell_type": "code",
   "execution_count": 31,
   "metadata": {},
   "outputs": [],
   "source": [
    "def weighted_choices(probs):\n",
    "    return 0, 1, ... or n-1 # n is lenth of probs"
   ]
  },
  {
   "cell_type": "code",
   "execution_count": 32,
   "metadata": {},
   "outputs": [
    {
     "ename": "NameError",
     "evalue": "name 'weighted_choices' is not defined",
     "output_type": "error",
     "traceback": [
      "\u001b[0;31m---------------------------------------------------------------------------\u001b[0m",
      "\u001b[0;31mNameError\u001b[0m                                 Traceback (most recent call last)",
      "\u001b[0;32m<ipython-input-32-acb456703afb>\u001b[0m in \u001b[0;36m<module>\u001b[0;34m\u001b[0m\n\u001b[0;32m----> 1\u001b[0;31m \u001b[0mweighted_choices\u001b[0m\u001b[0;34m(\u001b[0m\u001b[0;36m0.1\u001b[0m\u001b[0;34m,\u001b[0m \u001b[0;36m0.2\u001b[0m\u001b[0;34m,\u001b[0m \u001b[0;36m0.7\u001b[0m\u001b[0;34m)\u001b[0m\u001b[0;34m\u001b[0m\u001b[0;34m\u001b[0m\u001b[0m\n\u001b[0m\u001b[1;32m      2\u001b[0m \u001b[0;31m# Give 0, 10% cases. Give 1 - 20%, Give 2 - 70% approx\u001b[0m\u001b[0;34m\u001b[0m\u001b[0;34m\u001b[0m\u001b[0;34m\u001b[0m\u001b[0m\n",
      "\u001b[0;31mNameError\u001b[0m: name 'weighted_choices' is not defined"
     ]
    }
   ],
   "source": [
    "weighted_choices(0.1, 0.2, 0.7) \n",
    "# Give 0, 10% cases. Give 1 - 20%, Give 2 - 70% approx"
   ]
  },
  {
   "cell_type": "code",
   "execution_count": null,
   "metadata": {},
   "outputs": [],
   "source": []
  }
 ],
 "metadata": {
  "kernelspec": {
   "display_name": "Python 3",
   "language": "python",
   "name": "python3"
  },
  "language_info": {
   "codemirror_mode": {
    "name": "ipython",
    "version": 3
   },
   "file_extension": ".py",
   "mimetype": "text/x-python",
   "name": "python",
   "nbconvert_exporter": "python",
   "pygments_lexer": "ipython3",
   "version": "3.6.8"
  },
  "toc": {
   "base_numbering": 1,
   "nav_menu": {},
   "number_sections": true,
   "sideBar": true,
   "skip_h1_title": false,
   "title_cell": "Table of Contents",
   "title_sidebar": "Contents",
   "toc_cell": false,
   "toc_position": {},
   "toc_section_display": true,
   "toc_window_display": false
  }
 },
 "nbformat": 4,
 "nbformat_minor": 2
}
