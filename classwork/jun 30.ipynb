{
 "cells": [
  {
   "cell_type": "code",
   "execution_count": 2,
   "metadata": {},
   "outputs": [
    {
     "name": "stdout",
     "output_type": "stream",
     "text": [
      "jun 16.ipynb  jun 30.ipynb\t\t\t  user_email_prefs.csv\r\n",
      "jun 22.ipynb  may 26 2024.ipynb\r\n",
      "jun 23.ipynb  Sentiment Analysis with LLMs.ipynb\r\n"
     ]
    }
   ],
   "source": [
    "!ls"
   ]
  },
  {
   "cell_type": "code",
   "execution_count": 20,
   "metadata": {},
   "outputs": [
    {
     "name": "stdout",
     "output_type": "stream",
     "text": [
      "sandeepgiri@gmail.com, 1, 3\r\n",
      "prashantn@gmail.com, 2, 4\r\n",
      "sandeepgiri@gmail.com, 2, 4\r\n",
      "prashantn@gmail.com, 1, 1\r\n",
      "prakhar@microsoft.com, 2, 4\r\n"
     ]
    }
   ],
   "source": [
    "!cat user_email_prefs.csv"
   ]
  },
  {
   "cell_type": "code",
   "execution_count": 35,
   "metadata": {},
   "outputs": [],
   "source": [
    "!sort -S20M user_email_prefs.csv > user_email_prefs_sorted.csv\n"
   ]
  },
  {
   "cell_type": "code",
   "execution_count": 36,
   "metadata": {},
   "outputs": [
    {
     "name": "stdout",
     "output_type": "stream",
     "text": [
      "prakhar@microsoft.com, 2, 4\r\n",
      "prashantn@gmail.com, 1, 1\r\n",
      "prashantn@gmail.com, 2, 4\r\n",
      "sandeepgiri@gmail.com, 1, 3\r\n",
      "sandeepgiri@gmail.com, 2, 4\r\n"
     ]
    }
   ],
   "source": [
    "!cat user_email_prefs_sorted.csv"
   ]
  },
  {
   "cell_type": "markdown",
   "metadata": {},
   "source": [
    "# What is the order of complexity?"
   ]
  },
  {
   "cell_type": "code",
   "execution_count": 38,
   "metadata": {},
   "outputs": [
    {
     "name": "stdout",
     "output_type": "stream",
     "text": [
      "found\n"
     ]
    }
   ],
   "source": [
    "lst = [1,2,3,4]\n",
    "x = 4\n",
    "if x in lst:\n",
    "    print(\"found\")\n",
    "# Order of n"
   ]
  },
  {
   "cell_type": "code",
   "execution_count": 40,
   "metadata": {},
   "outputs": [],
   "source": [
    "# lst = [1,2,3,4]\n",
    "# x = 4\n",
    "# if x in bisect_left(lst):\n",
    "#     print(\"found\")\n",
    "# # Order of log(n) - number of hops is proportional to number of digits in number 1millions ~ 6 hops. 1billion ~ 9hop"
   ]
  },
  {
   "cell_type": "code",
   "execution_count": null,
   "metadata": {},
   "outputs": [],
   "source": [
    "d = {\"sandeep\":1,\"prakhar\":2,\"phani\":3,\"abhilekh\":4}\n",
    "x = 4\n",
    "if x in d:\n",
    "    print(\"found\")\n",
    "# Order of 1 - constant"
   ]
  },
  {
   "cell_type": "code",
   "execution_count": null,
   "metadata": {},
   "outputs": [],
   "source": [
    "lst = [1,2,3,4]\n",
    "lst[3] # order of 1 - constant time"
   ]
  },
  {
   "cell_type": "code",
   "execution_count": 28,
   "metadata": {},
   "outputs": [],
   "source": [
    "def encode(in_filename, out_filename):\n",
    "    d = {}\n",
    "    count = 1\n",
    "    with open(in_filename) as f, open(out_filename, \"w\") as of:\n",
    "        for line in f:\n",
    "            line = line.strip()\n",
    "            (email, product, pref) = line.split(\",\")\n",
    "            if email not in d:\n",
    "                d[email] = count\n",
    "                count += 1\n",
    "            id = d[email]\n",
    "            of.write(f\"{id}, {product}, {pref}\\n\")\n",
    "    return d"
   ]
  },
  {
   "cell_type": "code",
   "execution_count": 29,
   "metadata": {},
   "outputs": [],
   "source": [
    "d = encode(\"user_email_prefs.csv\", \"out_user_email_prefs.csv\")"
   ]
  },
  {
   "cell_type": "code",
   "execution_count": 30,
   "metadata": {},
   "outputs": [
    {
     "data": {
      "text/plain": [
       "{'sandeepgiri@gmail.com': 1,\n",
       " 'prashantn@gmail.com': 2,\n",
       " 'prakhar@microsoft.com': 3}"
      ]
     },
     "execution_count": 30,
     "metadata": {},
     "output_type": "execute_result"
    }
   ],
   "source": [
    "d"
   ]
  },
  {
   "cell_type": "code",
   "execution_count": 31,
   "metadata": {},
   "outputs": [
    {
     "name": "stdout",
     "output_type": "stream",
     "text": [
      "jun 16.ipynb  jun 30.ipynb\t\tSentiment Analysis with LLMs.ipynb\r\n",
      "jun 22.ipynb  may 26 2024.ipynb\t\tuser_email_prefs.csv\r\n",
      "jun 23.ipynb  out_user_email_prefs.csv\r\n"
     ]
    }
   ],
   "source": [
    "!ls"
   ]
  },
  {
   "cell_type": "code",
   "execution_count": 32,
   "metadata": {},
   "outputs": [
    {
     "name": "stdout",
     "output_type": "stream",
     "text": [
      "1,  1,  3\r\n",
      "2,  2,  4\r\n",
      "1,  2,  4\r\n",
      "2,  1,  1\r\n",
      "3,  2,  4\r\n"
     ]
    }
   ],
   "source": [
    "!cat out_user_email_prefs.csv"
   ]
  },
  {
   "cell_type": "code",
   "execution_count": 13,
   "metadata": {
    "scrolled": false
   },
   "outputs": [
    {
     "ename": "NameError",
     "evalue": "name 'NN' is not defined",
     "output_type": "error",
     "traceback": [
      "\u001b[0;31m---------------------------------------------------------------------------\u001b[0m",
      "\u001b[0;31mNameError\u001b[0m                                 Traceback (most recent call last)",
      "\u001b[0;32m<ipython-input-13-a1d1a8e59955>\u001b[0m in \u001b[0;36m<module>\u001b[0;34m\u001b[0m\n\u001b[1;32m      9\u001b[0m \u001b[0;31m# training_data is 100GB\u001b[0m\u001b[0;34m\u001b[0m\u001b[0;34m\u001b[0m\u001b[0;34m\u001b[0m\u001b[0m\n\u001b[1;32m     10\u001b[0m \u001b[0;31m# read 1GB - 100,000 lines\u001b[0m\u001b[0;34m\u001b[0m\u001b[0;34m\u001b[0m\u001b[0;34m\u001b[0m\u001b[0m\n\u001b[0;32m---> 11\u001b[0;31m \u001b[0mmodel\u001b[0m \u001b[0;34m=\u001b[0m \u001b[0mNN\u001b[0m\u001b[0;34m(\u001b[0m\u001b[0;34m)\u001b[0m\u001b[0;34m\u001b[0m\u001b[0;34m\u001b[0m\u001b[0m\n\u001b[0m\u001b[1;32m     12\u001b[0m \u001b[0mf\u001b[0m \u001b[0;34m=\u001b[0m \u001b[0mopen\u001b[0m\u001b[0;34m(\u001b[0m\u001b[0;34m\"train.csv\"\u001b[0m\u001b[0;34m)\u001b[0m\u001b[0;34m\u001b[0m\u001b[0;34m\u001b[0m\u001b[0m\n\u001b[1;32m     13\u001b[0m \u001b[0;32mwhile\u001b[0m \u001b[0;32mTrue\u001b[0m\u001b[0;34m:\u001b[0m\u001b[0;34m\u001b[0m\u001b[0;34m\u001b[0m\u001b[0m\n",
      "\u001b[0;31mNameError\u001b[0m: name 'NN' is not defined"
     ]
    }
   ],
   "source": [
    "def readN(f, n):\n",
    "    result = []\n",
    "    for i, line in enumerate(f):\n",
    "        result.append(line.strip())\n",
    "        if i >= n:\n",
    "            break\n",
    "    return result\n",
    "\n",
    "# training_data is 100GB\n",
    "# read 1GB - 100,000 lines"
   ]
  },
  {
   "cell_type": "code",
   "execution_count": null,
   "metadata": {},
   "outputs": [],
   "source": [
    "# config - git\n",
    "# log all error\n",
    "# monitoring\n",
    "# mount the disk onto all machine\n",
    "\n",
    "model = NN() # gradient descent based algo\n",
    "\n",
    "# Measure order of memory - Order of N\n",
    "# TODO: Time complexity & Memory/Space Complexity\n",
    "\n",
    "for i in range(epochs):\n",
    "    with open(\"train.csv\") as f:\n",
    "        while True:\n",
    "            data = readN(f, 100000)\n",
    "            if len(data) == 0:\n",
    "                break\n",
    "            model.fit(data)"
   ]
  },
  {
   "cell_type": "code",
   "execution_count": 8,
   "metadata": {},
   "outputs": [],
   "source": [
    "txt\n",
    "f.close()"
   ]
  },
  {
   "cell_type": "code",
   "execution_count": 48,
   "metadata": {},
   "outputs": [],
   "source": [
    "d = {}\n",
    "d[(1,2,2)]=10\n",
    "d[\"sandeep\"] = 100\n",
    "d[0x167] = 90\n",
    "d[0b100] = 199\n"
   ]
  },
  {
   "cell_type": "code",
   "execution_count": 49,
   "metadata": {},
   "outputs": [
    {
     "data": {
      "text/plain": [
       "{(1, 2, 2): 10, 'sandeep': 100, 359: 90, 4: 199}"
      ]
     },
     "execution_count": 49,
     "metadata": {},
     "output_type": "execute_result"
    }
   ],
   "source": [
    "d"
   ]
  },
  {
   "cell_type": "code",
   "execution_count": 50,
   "metadata": {},
   "outputs": [
    {
     "ename": "TypeError",
     "evalue": "unhashable type: 'list'",
     "output_type": "error",
     "traceback": [
      "\u001b[0;31m---------------------------------------------------------------------------\u001b[0m",
      "\u001b[0;31mTypeError\u001b[0m                                 Traceback (most recent call last)",
      "\u001b[0;32m<ipython-input-50-4b3f92a57bed>\u001b[0m in \u001b[0;36m<module>\u001b[0;34m\u001b[0m\n\u001b[0;32m----> 1\u001b[0;31m \u001b[0md\u001b[0m\u001b[0;34m[\u001b[0m\u001b[0;34m[\u001b[0m\u001b[0;36m1\u001b[0m\u001b[0;34m,\u001b[0m\u001b[0;36m1\u001b[0m\u001b[0;34m,\u001b[0m\u001b[0;36m1\u001b[0m\u001b[0;34m]\u001b[0m\u001b[0;34m]\u001b[0m \u001b[0;34m=\u001b[0m \u001b[0;36m10\u001b[0m\u001b[0;34m\u001b[0m\u001b[0;34m\u001b[0m\u001b[0m\n\u001b[0m",
      "\u001b[0;31mTypeError\u001b[0m: unhashable type: 'list'"
     ]
    }
   ],
   "source": [
    "d[[1,1,1]] = 10"
   ]
  },
  {
   "cell_type": "code",
   "execution_count": null,
   "metadata": {},
   "outputs": [],
   "source": [
    "dictionary[picture] = name"
   ]
  },
  {
   "cell_type": "code",
   "execution_count": null,
   "metadata": {},
   "outputs": [],
   "source": [
    "memory[chess_board_picture] -> predicts the next move"
   ]
  },
  {
   "cell_type": "markdown",
   "metadata": {},
   "source": [
    "Autoencoders\n",
    "    Back Prop\n",
    "\n",
    "RNN\n",
    "    BPTT - Backprop thru time\n",
    "\n",
    "CNN / LSTM\n",
    "    filters are figured out using the Backprop\n",
    "\n",
    "Reinforment Learning\n",
    "    - REINFORCE - Backprop\n",
    "\n",
    "Designing a memory - dictionary:\n",
    "    Code:\n",
    "        d = {}\n",
    "\n",
    "        d[(1,1,1)] = 4\n",
    "        d[(1,1,2)] = 50\n",
    "\n",
    "        print(d[1,1,1]) #prints 111\n",
    "        print(d[1,1,3])\n",
    "\n",
    "        ---\n",
    "    Deep Q Learn\n",
    "        - backprop\n",
    "===\n",
    "The algorithms that don't depend upon gradient Descent:\n",
    "\n",
    "    - SVM\n",
    "    - DT\n",
    "    - Normal Equation\n",
    "    - Energy Based Models\n",
    "    - kmeans\n",
    "    - naive bays\n"
   ]
  },
  {
   "cell_type": "code",
   "execution_count": null,
   "metadata": {},
   "outputs": [],
   "source": []
  }
 ],
 "metadata": {
  "kernelspec": {
   "display_name": "Python 3",
   "language": "python",
   "name": "python3"
  },
  "language_info": {
   "codemirror_mode": {
    "name": "ipython",
    "version": 3
   },
   "file_extension": ".py",
   "mimetype": "text/x-python",
   "name": "python",
   "nbconvert_exporter": "python",
   "pygments_lexer": "ipython3",
   "version": "3.6.8"
  },
  "toc": {
   "base_numbering": 1,
   "nav_menu": {},
   "number_sections": true,
   "sideBar": true,
   "skip_h1_title": false,
   "title_cell": "Table of Contents",
   "title_sidebar": "Contents",
   "toc_cell": false,
   "toc_position": {},
   "toc_section_display": true,
   "toc_window_display": false
  }
 },
 "nbformat": 4,
 "nbformat_minor": 2
}
