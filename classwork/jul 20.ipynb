{
 "cells": [
  {
   "cell_type": "code",
   "execution_count": 10,
   "metadata": {},
   "outputs": [],
   "source": [
    "# https://joblib.readthedocs.io/en/stable/"
   ]
  },
  {
   "cell_type": "markdown",
   "metadata": {},
   "source": [
    "# Recommendations\n",
    "\n",
    "## Amazon\n",
    "\n",
    "### Frequently bought together\n",
    "\n",
    "### Products related to this item\n",
    "\n",
    "### Customers who bought this item also bought\n",
    "\n",
    "## Google Places\n",
    "\n",
    "### Place Recommendation\n",
    "\n",
    "## AirBnb\n",
    "\n",
    "### Recommending places\n"
   ]
  },
  {
   "cell_type": "code",
   "execution_count": 4,
   "metadata": {},
   "outputs": [],
   "source": [
    "# Collaborative filtering # netflix..\n",
    "\n",
    "# user_id, product_id, score -> user_id, product_id, score\n",
    "\n",
    "# Can you give recommendation to a new user?\n",
    "\n",
    "# Can you give recommendations of a new product?\n",
    "\n",
    "# --> Cold Start Problem\n",
    "\n",
    "# 1. Create a list of products popular in user's country.\n"
   ]
  },
  {
   "cell_type": "markdown",
   "metadata": {},
   "source": [
    "Dataset:\n",
    "\n",
    "    User_Features, products_features, Date Time, Score\n",
    "    Country, Age Group, Gender, Date Joined, How much money have they spend, \n",
    "    Title, description, ratings, category,\n",
    "    \n",
    "    Model(features) -> score\n",
    "    \n",
    "    # Feature Stores -> postgres...\n",
    "\n",
    "https://medium.com/airbnb-engineering/machine-learning-powered-search-ranking-of-airbnb-experiences-110b4b1a0789\n"
   ]
  },
  {
   "cell_type": "code",
   "execution_count": 8,
   "metadata": {},
   "outputs": [],
   "source": [
    "# User_features, Article features, Prefs"
   ]
  },
  {
   "cell_type": "code",
   "execution_count": 9,
   "metadata": {},
   "outputs": [],
   "source": [
    "# 1. For which geography what do people usually read\n",
    "# 2. "
   ]
  },
  {
   "cell_type": "code",
   "execution_count": null,
   "metadata": {},
   "outputs": [],
   "source": []
  }
 ],
 "metadata": {
  "kernelspec": {
   "display_name": "Python 3",
   "language": "python",
   "name": "python3"
  },
  "language_info": {
   "codemirror_mode": {
    "name": "ipython",
    "version": 3
   },
   "file_extension": ".py",
   "mimetype": "text/x-python",
   "name": "python",
   "nbconvert_exporter": "python",
   "pygments_lexer": "ipython3",
   "version": "3.6.8"
  },
  "toc": {
   "base_numbering": 1,
   "nav_menu": {},
   "number_sections": true,
   "sideBar": true,
   "skip_h1_title": false,
   "title_cell": "Table of Contents",
   "title_sidebar": "Contents",
   "toc_cell": false,
   "toc_position": {},
   "toc_section_display": true,
   "toc_window_display": false
  }
 },
 "nbformat": 4,
 "nbformat_minor": 2
}
