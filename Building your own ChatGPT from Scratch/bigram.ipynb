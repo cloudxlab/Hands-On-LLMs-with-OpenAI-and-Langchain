{
 "cells": [
  {
   "cell_type": "code",
   "execution_count": 1,
   "metadata": {},
   "outputs": [],
   "source": [
    "import tensorflow as tf\n",
    "from tensorflow import keras\n",
    "from tensorflow.keras import layers\n",
    "\n",
    "# Hyperparameters\n",
    "batch_size = 32\n",
    "block_size = 8\n",
    "max_iters = 3000\n",
    "eval_interval = 300\n",
    "learning_rate = 1e-2\n",
    "eval_iters = 200\n",
    "\n",
    "tf.random.set_seed(1337)"
   ]
  },
  {
   "cell_type": "code",
   "execution_count": 2,
   "metadata": {},
   "outputs": [],
   "source": [
    "with open('input.txt', 'r', encoding='utf-8') as f:\n",
    "    text = f.read()"
   ]
  },
  {
   "cell_type": "code",
   "execution_count": 3,
   "metadata": {},
   "outputs": [],
   "source": [
    "chars = sorted(list(set(text)))\n",
    "vocab_size = len(chars)\n",
    "stoi = {ch: i for i, ch in enumerate(chars)}\n",
    "itos = {i: ch for i, ch in enumerate(chars)}\n",
    "\n",
    "encode = lambda s: [stoi[c] for c in s]\n",
    "decode = lambda l: ''.join([itos[i] for i in l])\n",
    "\n",
    "data = tf.constant(encode(text), dtype=tf.int64)\n",
    "n = int(0.9 * len(data))\n",
    "train_data = data[:n]\n",
    "val_data = data[n:]"
   ]
  },
  {
   "cell_type": "code",
   "execution_count": 4,
   "metadata": {},
   "outputs": [],
   "source": [
    "def get_batch(split):\n",
    "    data = train_data if split == 'train' else val_data\n",
    "    ix = tf.random.uniform((batch_size,), maxval=len(data) - block_size, dtype=tf.int64)\n",
    "    x = tf.gather(data, ix[:, tf.newaxis] + tf.cast(tf.range(block_size), dtype=tf.int64))\n",
    "    y = tf.gather(data, ix[:, tf.newaxis] + tf.cast(tf.range(1, block_size + 1), dtype=tf.int64))\n",
    "    x, y = tf.convert_to_tensor(x, dtype=tf.int64), tf.convert_to_tensor(y, dtype=tf.int64)\n",
    "    return x, y"
   ]
  },
  {
   "cell_type": "code",
   "execution_count": 5,
   "metadata": {},
   "outputs": [],
   "source": [
    "@tf.function\n",
    "def estimate_loss():\n",
    "    out = {}\n",
    "    model.trainable = False\n",
    "    for split in ['train', 'val']:\n",
    "        losses = tf.zeros(eval_iters, dtype=tf.float32)\n",
    "        for k in range(eval_iters):\n",
    "            X, Y = get_batch(split)\n",
    "            logits, loss = model(X, Y)\n",
    "            losses = tf.tensor_scatter_nd_add(losses, [[k]], [loss])\n",
    "        out[split] = tf.reduce_mean(losses)\n",
    "    model.trainable = True\n",
    "    return out"
   ]
  },
  {
   "cell_type": "code",
   "execution_count": 6,
   "metadata": {},
   "outputs": [],
   "source": [
    "class BigramLanguageModel(keras.Model):\n",
    "\n",
    "    def __init__(self, vocab_size):\n",
    "        super(BigramLanguageModel, self).__init__()\n",
    "        self.token_embedding_table = layers.Embedding(vocab_size, vocab_size)\n",
    "\n",
    "    def call(self, idx, targets=None):\n",
    "\n",
    "        logits = self.token_embedding_table(idx)\n",
    "        if targets is None:\n",
    "            loss = None\n",
    "        else:\n",
    "            B, T, C = logits.shape\n",
    "            logits = tf.reshape(logits, (B * T, C))\n",
    "            targets = tf.reshape(targets, (B * T,))\n",
    "            loss = tf.reduce_mean(tf.nn.sparse_softmax_cross_entropy_with_logits(labels=targets, logits=logits))\n",
    "\n",
    "        return logits, loss\n",
    "\n",
    "    def generate(self, idx, max_new_tokens):\n",
    "        for _ in tf.range(max_new_tokens):\n",
    "            logits, _ = self(idx)\n",
    "            logits = logits[:, -1, :]\n",
    "            probs = tf.nn.softmax(logits, axis=-1)\n",
    "            idx_next = tf.random.categorical(tf.math.log(probs), num_samples=1, dtype=tf.int64)\n",
    "            idx = tf.concat([idx, idx_next], axis=1)\n",
    "        return idx\n",
    "\n",
    "model = BigramLanguageModel(vocab_size)"
   ]
  },
  {
   "cell_type": "code",
   "execution_count": 7,
   "metadata": {},
   "outputs": [
    {
     "name": "stdout",
     "output_type": "stream",
     "text": [
      "step 0: train loss 4.1738, val loss 4.1731\n",
      "step 300: train loss 2.6584, val loss 2.6725\n",
      "step 600: train loss 2.5153, val loss 2.5308\n",
      "step 900: train loss 2.4783, val loss 2.5034\n",
      "step 1200: train loss 2.4696, val loss 2.5020\n",
      "step 1500: train loss 2.4745, val loss 2.4959\n",
      "step 1800: train loss 2.4649, val loss 2.4975\n",
      "step 2100: train loss 2.4665, val loss 2.4937\n",
      "step 2400: train loss 2.4672, val loss 2.4989\n",
      "step 2700: train loss 2.4664, val loss 2.4839\n"
     ]
    }
   ],
   "source": [
    "optimizer = tf.optimizers.Adam(learning_rate)\n",
    "\n",
    "for iter in tf.range(max_iters):\n",
    "\n",
    "    if iter % eval_interval == 0:\n",
    "        losses = estimate_loss()\n",
    "        print(f\"step {iter.numpy()}: train loss {losses['train']:.4f}, val loss {losses['val']:.4f}\")\n",
    "\n",
    "    xb, yb = get_batch('train')\n",
    "\n",
    "    with tf.GradientTape() as tape:\n",
    "        logits, loss = model(xb, yb)\n",
    "\n",
    "    gradients = tape.gradient(loss, model.trainable_variables)\n",
    "    optimizer.apply_gradients(zip(gradients, model.trainable_variables))"
   ]
  },
  {
   "cell_type": "code",
   "execution_count": 8,
   "metadata": {},
   "outputs": [
    {
     "name": "stdout",
     "output_type": "stream",
     "text": [
      "\n",
      "Whar lse win havetsert I t?\n",
      "FRat ef\n",
      "OLor t I is amusse mze wQUK:\n",
      "Southat out n f s ur's; y t are he, he hens ond fous ll t.\n",
      "\n",
      "An kiongequt thil\n",
      "Tbe?\n",
      "Han nd y?\n",
      "\n",
      "s sscouse s; wis y.\n",
      "\n",
      "\n",
      "\n",
      "Sea we f the tit, s l, r n:\n",
      "I ss rdeven l cre asst,\n",
      "jughalllet aveanthe.\n",
      "IUSoreanand ary bee h,\n",
      "Whous,\n",
      "QUSkiedwindin, remy! n h.\n",
      "Gichomounepatou dshony wonceergis thom\n",
      "ANEYo toms l ntesthig, lurt loumplapt is Sed pak'\n",
      "Tat miore k. icchirobow yollersee\n",
      "Anoururet s tha Te me ton f tod my wisthinis akikees\n",
      "RWourel.\n",
      "And \n"
     ]
    }
   ],
   "source": [
    "# Generate from the model\n",
    "context = tf.zeros((1, 1), dtype=tf.int64)\n",
    "generated_text = decode(model.generate(context, max_new_tokens=500).numpy()[0])\n",
    "print(generated_text)"
   ]
  },
  {
   "cell_type": "code",
   "execution_count": null,
   "metadata": {},
   "outputs": [],
   "source": []
  },
  {
   "cell_type": "code",
   "execution_count": null,
   "metadata": {},
   "outputs": [],
   "source": []
  }
 ],
 "metadata": {
  "kernelspec": {
   "display_name": "Python 3 (ipykernel)",
   "language": "python",
   "name": "python3"
  },
  "language_info": {
   "codemirror_mode": {
    "name": "ipython",
    "version": 3
   },
   "file_extension": ".py",
   "mimetype": "text/x-python",
   "name": "python",
   "nbconvert_exporter": "python",
   "pygments_lexer": "ipython3",
   "version": "3.8.1"
  }
 },
 "nbformat": 4,
 "nbformat_minor": 4
}
